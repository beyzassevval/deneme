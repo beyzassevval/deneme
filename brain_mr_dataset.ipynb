{
  "cells": [
    {
      "cell_type": "markdown",
      "metadata": {
        "id": "view-in-github",
        "colab_type": "text"
      },
      "source": [
        "<a href=\"https://colab.research.google.com/github/beyzassevval/deneme/blob/main/brain_mr_dataset.ipynb\" target=\"_parent\"><img src=\"https://colab.research.google.com/assets/colab-badge.svg\" alt=\"Open In Colab\"/></a>"
      ]
    },
    {
      "cell_type": "code",
      "execution_count": null,
      "metadata": {
        "colab": {
          "base_uri": "https://localhost:8080/",
          "height": 160
        },
        "id": "RbxCq9gVGf3s",
        "outputId": "85ccabd7-f435-4c54-b559-7bd52e4c3013"
      },
      "outputs": [
        {
          "name": "stdout",
          "output_type": "stream",
          "text": [
            "Adım 1: Kurulumlar yapılıyor...\n",
            "\n",
            "Lütfen Kaggle API anahtarınızı (kaggle.json) yükleyin.\n"
          ]
        },
        {
          "data": {
            "text/html": [
              "\n",
              "     <input type=\"file\" id=\"files-4a1c0c50-0c6f-4a25-8759-9fb271f1bd68\" name=\"files[]\" multiple disabled\n",
              "        style=\"border:none\" />\n",
              "     <output id=\"result-4a1c0c50-0c6f-4a25-8759-9fb271f1bd68\">\n",
              "      Upload widget is only available when the cell has been executed in the\n",
              "      current browser session. Please rerun this cell to enable.\n",
              "      </output>\n",
              "      <script>// Copyright 2017 Google LLC\n",
              "//\n",
              "// Licensed under the Apache License, Version 2.0 (the \"License\");\n",
              "// you may not use this file except in compliance with the License.\n",
              "// You may obtain a copy of the License at\n",
              "//\n",
              "//      http://www.apache.org/licenses/LICENSE-2.0\n",
              "//\n",
              "// Unless required by applicable law or agreed to in writing, software\n",
              "// distributed under the License is distributed on an \"AS IS\" BASIS,\n",
              "// WITHOUT WARRANTIES OR CONDITIONS OF ANY KIND, either express or implied.\n",
              "// See the License for the specific language governing permissions and\n",
              "// limitations under the License.\n",
              "\n",
              "/**\n",
              " * @fileoverview Helpers for google.colab Python module.\n",
              " */\n",
              "(function(scope) {\n",
              "function span(text, styleAttributes = {}) {\n",
              "  const element = document.createElement('span');\n",
              "  element.textContent = text;\n",
              "  for (const key of Object.keys(styleAttributes)) {\n",
              "    element.style[key] = styleAttributes[key];\n",
              "  }\n",
              "  return element;\n",
              "}\n",
              "\n",
              "// Max number of bytes which will be uploaded at a time.\n",
              "const MAX_PAYLOAD_SIZE = 100 * 1024;\n",
              "\n",
              "function _uploadFiles(inputId, outputId) {\n",
              "  const steps = uploadFilesStep(inputId, outputId);\n",
              "  const outputElement = document.getElementById(outputId);\n",
              "  // Cache steps on the outputElement to make it available for the next call\n",
              "  // to uploadFilesContinue from Python.\n",
              "  outputElement.steps = steps;\n",
              "\n",
              "  return _uploadFilesContinue(outputId);\n",
              "}\n",
              "\n",
              "// This is roughly an async generator (not supported in the browser yet),\n",
              "// where there are multiple asynchronous steps and the Python side is going\n",
              "// to poll for completion of each step.\n",
              "// This uses a Promise to block the python side on completion of each step,\n",
              "// then passes the result of the previous step as the input to the next step.\n",
              "function _uploadFilesContinue(outputId) {\n",
              "  const outputElement = document.getElementById(outputId);\n",
              "  const steps = outputElement.steps;\n",
              "\n",
              "  const next = steps.next(outputElement.lastPromiseValue);\n",
              "  return Promise.resolve(next.value.promise).then((value) => {\n",
              "    // Cache the last promise value to make it available to the next\n",
              "    // step of the generator.\n",
              "    outputElement.lastPromiseValue = value;\n",
              "    return next.value.response;\n",
              "  });\n",
              "}\n",
              "\n",
              "/**\n",
              " * Generator function which is called between each async step of the upload\n",
              " * process.\n",
              " * @param {string} inputId Element ID of the input file picker element.\n",
              " * @param {string} outputId Element ID of the output display.\n",
              " * @return {!Iterable<!Object>} Iterable of next steps.\n",
              " */\n",
              "function* uploadFilesStep(inputId, outputId) {\n",
              "  const inputElement = document.getElementById(inputId);\n",
              "  inputElement.disabled = false;\n",
              "\n",
              "  const outputElement = document.getElementById(outputId);\n",
              "  outputElement.innerHTML = '';\n",
              "\n",
              "  const pickedPromise = new Promise((resolve) => {\n",
              "    inputElement.addEventListener('change', (e) => {\n",
              "      resolve(e.target.files);\n",
              "    });\n",
              "  });\n",
              "\n",
              "  const cancel = document.createElement('button');\n",
              "  inputElement.parentElement.appendChild(cancel);\n",
              "  cancel.textContent = 'Cancel upload';\n",
              "  const cancelPromise = new Promise((resolve) => {\n",
              "    cancel.onclick = () => {\n",
              "      resolve(null);\n",
              "    };\n",
              "  });\n",
              "\n",
              "  // Wait for the user to pick the files.\n",
              "  const files = yield {\n",
              "    promise: Promise.race([pickedPromise, cancelPromise]),\n",
              "    response: {\n",
              "      action: 'starting',\n",
              "    }\n",
              "  };\n",
              "\n",
              "  cancel.remove();\n",
              "\n",
              "  // Disable the input element since further picks are not allowed.\n",
              "  inputElement.disabled = true;\n",
              "\n",
              "  if (!files) {\n",
              "    return {\n",
              "      response: {\n",
              "        action: 'complete',\n",
              "      }\n",
              "    };\n",
              "  }\n",
              "\n",
              "  for (const file of files) {\n",
              "    const li = document.createElement('li');\n",
              "    li.append(span(file.name, {fontWeight: 'bold'}));\n",
              "    li.append(span(\n",
              "        `(${file.type || 'n/a'}) - ${file.size} bytes, ` +\n",
              "        `last modified: ${\n",
              "            file.lastModifiedDate ? file.lastModifiedDate.toLocaleDateString() :\n",
              "                                    'n/a'} - `));\n",
              "    const percent = span('0% done');\n",
              "    li.appendChild(percent);\n",
              "\n",
              "    outputElement.appendChild(li);\n",
              "\n",
              "    const fileDataPromise = new Promise((resolve) => {\n",
              "      const reader = new FileReader();\n",
              "      reader.onload = (e) => {\n",
              "        resolve(e.target.result);\n",
              "      };\n",
              "      reader.readAsArrayBuffer(file);\n",
              "    });\n",
              "    // Wait for the data to be ready.\n",
              "    let fileData = yield {\n",
              "      promise: fileDataPromise,\n",
              "      response: {\n",
              "        action: 'continue',\n",
              "      }\n",
              "    };\n",
              "\n",
              "    // Use a chunked sending to avoid message size limits. See b/62115660.\n",
              "    let position = 0;\n",
              "    do {\n",
              "      const length = Math.min(fileData.byteLength - position, MAX_PAYLOAD_SIZE);\n",
              "      const chunk = new Uint8Array(fileData, position, length);\n",
              "      position += length;\n",
              "\n",
              "      const base64 = btoa(String.fromCharCode.apply(null, chunk));\n",
              "      yield {\n",
              "        response: {\n",
              "          action: 'append',\n",
              "          file: file.name,\n",
              "          data: base64,\n",
              "        },\n",
              "      };\n",
              "\n",
              "      let percentDone = fileData.byteLength === 0 ?\n",
              "          100 :\n",
              "          Math.round((position / fileData.byteLength) * 100);\n",
              "      percent.textContent = `${percentDone}% done`;\n",
              "\n",
              "    } while (position < fileData.byteLength);\n",
              "  }\n",
              "\n",
              "  // All done.\n",
              "  yield {\n",
              "    response: {\n",
              "      action: 'complete',\n",
              "    }\n",
              "  };\n",
              "}\n",
              "\n",
              "scope.google = scope.google || {};\n",
              "scope.google.colab = scope.google.colab || {};\n",
              "scope.google.colab._files = {\n",
              "  _uploadFiles,\n",
              "  _uploadFilesContinue,\n",
              "};\n",
              "})(self);\n",
              "</script> "
            ],
            "text/plain": [
              "<IPython.core.display.HTML object>"
            ]
          },
          "metadata": {},
          "output_type": "display_data"
        },
        {
          "name": "stdout",
          "output_type": "stream",
          "text": [
            "Saving kaggle.json to kaggle.json\n",
            "\n",
            "'kaggle.json' başarıyla yüklendi.\n"
          ]
        }
      ],
      "source": [
        "# ==============================================================================\n",
        "# Adım 1: Gerekli Kütüphaneleri Yükleme ve Kaggle API Kurulumu\n",
        "# ==============================================================================\n",
        "print(\"Adım 1: Kurulumlar yapılıyor...\")\n",
        "# Kaggle API ile kolayca veri seti indirmek için opendatasets kütüphanesini yüklüyoruz.\n",
        "!pip install opendatasets --upgrade --quiet\n",
        "# TensorFlow ve Keras'ı yüklüyoruz.\n",
        "!pip install tensorflow --quiet\n",
        "\n",
        "import opendatasets as od\n",
        "import os\n",
        "import shutil\n",
        "import numpy as np\n",
        "import tensorflow as tf\n",
        "from tensorflow.keras.preprocessing.image import ImageDataGenerator\n",
        "from tensorflow.keras.models import Sequential\n",
        "from tensorflow.keras.layers import Conv2D, MaxPooling2D, Flatten, Dense, Dropout, BatchNormalization\n",
        "from tensorflow.keras.optimizers import Adam\n",
        "from google.colab import files\n",
        "from tensorflow.keras.preprocessing import image\n",
        "import matplotlib.pyplot as plt\n",
        "import matplotlib.image as mpimg\n",
        "import pandas as pd\n",
        "\n",
        "print(\"\\nLütfen Kaggle API anahtarınızı (kaggle.json) yükleyin.\")\n",
        "# Kullanıcıdan kaggle.json dosyasını yüklemesini isteyen arayüz\n",
        "# Bu kod çalıştırıldığında bir \"Dosya Seç\" butonu çıkacaktır.\n",
        "uploaded = files.upload()\n",
        "\n",
        "# Yüklenen dosyanın adını kontrol et\n",
        "if 'kaggle.json' in uploaded:\n",
        "    print(\"\\n'kaggle.json' başarıyla yüklendi.\")\n",
        "    # Dosyayı doğru konuma taşıyalım\n",
        "    if not os.path.exists('/root/.kaggle'):\n",
        "        os.makedirs('/root/.kaggle')\n",
        "    shutil.move('kaggle.json', '/root/.kaggle/kaggle.json')\n",
        "    # İzinleri ayarla\n",
        "    os.chmod('/root/.kaggle/kaggle.json', 600)\n",
        "else:\n",
        "    raise ValueError(\"HATA: Lütfen 'kaggle.json' dosyasını yüklediğinizden emin olun.\")"
      ]
    },
    {
      "cell_type": "code",
      "execution_count": null,
      "metadata": {
        "colab": {
          "base_uri": "https://localhost:8080/"
        },
        "id": "EHzCuUJYkzrI",
        "outputId": "494ae8cf-5006-4db0-99e0-599eac9d185a"
      },
      "outputs": [
        {
          "name": "stdout",
          "output_type": "stream",
          "text": [
            "Adım 2: Veri seti indiriliyor...\n",
            "Please provide your Kaggle credentials to download this dataset. Learn more: http://bit.ly/kaggle-creds\n",
            "Your Kaggle username: beyzasenkus\n",
            "Your Kaggle Key: ··········\n",
            "Dataset URL: https://www.kaggle.com/datasets/navoneel/brain-mri-images-for-brain-tumor-detection\n",
            "Downloading brain-mri-images-for-brain-tumor-detection.zip to brain_mri_dataset/brain-mri-images-for-brain-tumor-detection\n"
          ]
        },
        {
          "name": "stderr",
          "output_type": "stream",
          "text": [
            "100%|██████████| 15.1M/15.1M [00:00<00:00, 762MB/s]"
          ]
        },
        {
          "name": "stdout",
          "output_type": "stream",
          "text": [
            "\n"
          ]
        },
        {
          "name": "stderr",
          "output_type": "stream",
          "text": [
            "\n"
          ]
        },
        {
          "name": "stdout",
          "output_type": "stream",
          "text": [
            "Veri seti indirildi.\n"
          ]
        }
      ],
      "source": [
        "# ==============================================================================\n",
        "# Adım 2: Kaggle Veri Setini İndirme\n",
        "# ==============================================================================\n",
        "print(\"Adım 2: Veri seti indiriliyor...\")\n",
        "\n",
        "dataset_url = \"https://www.kaggle.com/datasets/navoneel/brain-mri-images-for-brain-tumor-detection\"\n",
        "od.download(dataset_url, data_dir=\"brain_mri_dataset\")\n",
        "\n",
        "print(\"Veri seti indirildi.\")\n"
      ]
    },
    {
      "cell_type": "code",
      "execution_count": null,
      "metadata": {
        "colab": {
          "base_uri": "https://localhost:8080/"
        },
        "id": "Qjk7KqU3latD",
        "outputId": "21463559-74e4-4a2b-980d-af372bdd3ebb"
      },
      "outputs": [
        {
          "name": "stdout",
          "output_type": "stream",
          "text": [
            "brain-mri-images-for-brain-tumor-detection/\n",
            "    no/\n",
            "        23 no.jpg\n",
            "        46 no.jpg\n",
            "        no 100.jpg\n",
            "        21 no.jpg\n",
            "        no 3.jpg\n",
            "        ... (98 dosya)\n",
            "    brain_tumor_dataset/\n",
            "        no/\n",
            "            23 no.jpg\n",
            "            46 no.jpg\n",
            "            no 100.jpg\n",
            "            21 no.jpg\n",
            "            no 3.jpg\n",
            "            ... (98 dosya)\n",
            "        yes/\n",
            "            Y195.JPG\n",
            "            Y69.jpg\n",
            "            Y112.JPG\n",
            "            Y11.jpg\n",
            "            Y53.jpg\n",
            "            ... (155 dosya)\n",
            "    yes/\n",
            "        Y195.JPG\n",
            "        Y69.jpg\n",
            "        Y112.JPG\n",
            "        Y11.jpg\n",
            "        Y53.jpg\n",
            "        ... (155 dosya)\n",
            "\n",
            "Sınıf başına dosya sayısı:\n",
            "no: 98 adet\n",
            "yes: 155 adet\n"
          ]
        }
      ],
      "source": [
        "import os\n",
        "\n",
        "# Veri seti klasörünü buraya yaz (senin indirdiğin yol)\n",
        "data_path = \"/content/brain_mri_dataset/brain-mri-images-for-brain-tumor-detection\"\n",
        "\n",
        "# Klasör yapısını göster\n",
        "for root, dirs, files in os.walk(data_path):\n",
        "    level = root.replace(data_path, '').count(os.sep)\n",
        "    indent = ' ' * 4 * level\n",
        "    print(f\"{indent}{os.path.basename(root)}/\")\n",
        "    subindent = ' ' * 4 * (level + 1)\n",
        "    for f in files[:5]:  # İlk 5 dosyayı göster\n",
        "        print(f\"{subindent}{f}\")\n",
        "    if len(files) > 5:\n",
        "        print(f\"{subindent}... ({len(files)} dosya)\")\n",
        "\n",
        "# Sınıf başına kaç görsel var\n",
        "print(\"\\nSınıf başına dosya sayısı:\")\n",
        "for class_name in os.listdir(os.path.join(data_path, '/content/brain_mri_dataset/brain-mri-images-for-brain-tumor-detection/brain_tumor_dataset')):\n",
        "    class_dir = os.path.join(data_path, '/content/brain_mri_dataset/brain-mri-images-for-brain-tumor-detection/brain_tumor_dataset', class_name)\n",
        "    if os.path.isdir(class_dir):\n",
        "        count = len(os.listdir(class_dir))\n",
        "        print(f\"{class_name}: {count} adet\")\n"
      ]
    },
    {
      "cell_type": "code",
      "execution_count": null,
      "metadata": {
        "id": "4gcuCKmbwHSz"
      },
      "outputs": [],
      "source": [
        "# 2️⃣ Veri yolları ve klasörler\n",
        "base_dir = \"/content/brain_mri_dataset/brain-mri-images-for-brain-tumor-detection/brain_tumor_dataset\"\n",
        "train_dir = \"data/train\"\n",
        "val_dir = \"data/val\"\n",
        "test_dir = \"data/test\"\n",
        "\n",
        "for d in [train_dir, val_dir, test_dir]:\n",
        "    os.makedirs(os.path.join(d, \"yes\"), exist_ok=True)\n",
        "    os.makedirs(os.path.join(d, \"no\"), exist_ok=True)\n",
        "\n",
        "yes_images = os.listdir(os.path.join(base_dir, \"yes\"))\n",
        "no_images = os.listdir(os.path.join(base_dir, \"no\"))\n",
        "\n",
        "yes_train, yes_temp = train_test_split(yes_images, test_size=0.3, random_state=42)\n",
        "yes_val, yes_test = train_test_split(yes_temp, test_size=0.5, random_state=42)\n",
        "no_train, no_temp = train_test_split(no_images, test_size=0.3, random_state=42)\n",
        "no_val, no_test = train_test_split(no_temp, test_size=0.5, random_state=42)\n",
        "\n",
        "def copy_images(img_list, src_folder, dest_folder):\n",
        "    for img in img_list:\n",
        "        shutil.copy(os.path.join(src_folder, img), os.path.join(dest_folder, img))\n",
        "\n",
        "copy_images(yes_train, os.path.join(base_dir, \"yes\"), os.path.join(train_dir, \"yes\"))\n",
        "copy_images(yes_val, os.path.join(base_dir, \"yes\"), os.path.join(val_dir, \"yes\"))\n",
        "copy_images(yes_test, os.path.join(base_dir, \"yes\"), os.path.join(test_dir, \"yes\"))\n",
        "\n",
        "copy_images(no_train, os.path.join(base_dir, \"no\"), os.path.join(train_dir, \"no\"))\n",
        "copy_images(no_val, os.path.join(base_dir, \"no\"), os.path.join(val_dir, \"no\"))\n",
        "copy_images(no_test, os.path.join(base_dir, \"no\"), os.path.join(test_dir, \"no\"))\n"
      ]
    },
    {
      "cell_type": "code",
      "execution_count": null,
      "metadata": {
        "colab": {
          "base_uri": "https://localhost:8080/"
        },
        "id": "vE9l8QWUwzd3",
        "outputId": "a23a7ca8-6868-40c2-f4ee-5eda47df1829"
      },
      "outputs": [
        {
          "name": "stdout",
          "output_type": "stream",
          "text": [
            "Found 352 images belonging to 2 classes.\n",
            "Found 38 images belonging to 2 classes.\n",
            "Found 39 images belonging to 2 classes.\n"
          ]
        }
      ],
      "source": [
        "IMG_SIZE = 224\n",
        "BATCH_SIZE = 32\n",
        "\n",
        "train_datagen = ImageDataGenerator(\n",
        "    rescale=1./255,\n",
        "    rotation_range=25,\n",
        "    width_shift_range=0.2,\n",
        "    height_shift_range=0.2,\n",
        "    zoom_range=0.2,\n",
        "    horizontal_flip=True,\n",
        "    brightness_range=[0.8,1.2]\n",
        ")\n",
        "\n",
        "val_datagen = ImageDataGenerator(rescale=1./255)\n",
        "test_datagen = ImageDataGenerator(rescale=1./255)\n",
        "\n",
        "train_gen = train_datagen.flow_from_directory(\n",
        "    train_dir,\n",
        "    target_size=(IMG_SIZE, IMG_SIZE),\n",
        "    batch_size=BATCH_SIZE,\n",
        "    class_mode='binary'\n",
        ")\n",
        "\n",
        "val_gen = val_datagen.flow_from_directory(\n",
        "    val_dir,\n",
        "    target_size=(IMG_SIZE, IMG_SIZE),\n",
        "    batch_size=BATCH_SIZE,\n",
        "    class_mode='binary'\n",
        ")\n",
        "\n",
        "test_gen = test_datagen.flow_from_directory(\n",
        "    test_dir,\n",
        "    target_size=(IMG_SIZE, IMG_SIZE),\n",
        "    batch_size=1,\n",
        "    class_mode='binary',\n",
        "    shuffle=False\n",
        ")"
      ]
    },
    {
      "cell_type": "code",
      "execution_count": null,
      "metadata": {
        "colab": {
          "background_save": true
        },
        "id": "otykKv71w5ZP"
      },
      "outputs": [],
      "source": [
        "# 4️⃣ Model - EfficientNetB0 + fine-tuning\n",
        "from tensorflow.keras.layers import Dense, Dropout, GlobalAveragePooling2D, BatchNormalization\n",
        "from tensorflow.keras.models import Model\n",
        "\n",
        "base_model = EfficientNetB0(weights='imagenet', include_top=False, input_shape=(IMG_SIZE, IMG_SIZE, 3))\n",
        "base_model.trainable = True  # Fine-tuning için açık\n",
        "\n",
        "x = base_model.output\n",
        "x = GlobalAveragePooling2D()(x)\n",
        "x = BatchNormalization()(x)\n",
        "x = Dropout(0.5)(x)\n",
        "predictions = Dense(1, activation='sigmoid')(x)\n",
        "\n",
        "model = Model(inputs=base_model.input, outputs=predictions)\n",
        "\n",
        "# 5️⃣ Compile\n",
        "model.compile(\n",
        "    optimizer=Adam(learning_rate=1e-4),\n",
        "    loss='binary_crossentropy',\n",
        "    metrics=['accuracy']\n",
        ")\n",
        "\n",
        "# 6️⃣ Callbacks\n",
        "early_stop = EarlyStopping(monitor='val_loss', patience=5, restore_best_weights=True)\n",
        "reduce_lr = ReduceLROnPlateau(monitor='val_loss', factor=0.5, patience=3, verbose=1)\n"
      ]
    }
  ],
  "metadata": {
    "colab": {
      "provenance": [],
      "authorship_tag": "ABX9TyOQDxozJVNL5vHdWzLBK4vR",
      "include_colab_link": true
    },
    "kernelspec": {
      "display_name": "Python 3",
      "name": "python3"
    },
    "language_info": {
      "name": "python"
    }
  },
  "nbformat": 4,
  "nbformat_minor": 0
}